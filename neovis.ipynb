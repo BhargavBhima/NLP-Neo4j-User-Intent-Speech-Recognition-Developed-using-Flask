{
 "cells": [
  {
   "cell_type": "code",
   "execution_count": 1,
   "id": "1dd88d71",
   "metadata": {},
   "outputs": [],
   "source": [
    "from py2neo import Graph\n",
    "model = Graph"
   ]
  },
  {
   "cell_type": "code",
   "execution_count": 2,
   "id": "8a77c932",
   "metadata": {},
   "outputs": [],
   "source": [
    "graph=Graph(uri=\"bolt://localhost:7687\",auth=(\"neo4j\",\"1234\"))\n",
    "host = \"bolt://localhost:7687\"\n",
    "user = 'neo4j'\n",
    "password = '1234'"
   ]
  },
  {
   "cell_type": "code",
   "execution_count": 3,
   "id": "7649154c",
   "metadata": {},
   "outputs": [],
   "source": [
    "from IPython.display import IFrame, HTML\n",
    "import json\n",
    "import uuid\n",
    "\n",
    "\n",
    "def generate_vis(host, user, password, cypher, labels_json, relationships_json):\n",
    "    html = \"\"\"\\\n",
    "<html>\n",
    "<head>\n",
    "    <title>Neovis.js Simple Example</title>\n",
    "            <style type=\"text/css\">\n",
    "                html, body {{\n",
    "                    font: 16pt arial;\n",
    "                }}\n",
    "                #viz {{\n",
    "                    width: 400px;\n",
    "                    height: 450px;\n",
    "                    font: 22pt arial;\n",
    "                }}\n",
    "            </style>\n",
    "            <script src=\"https://cdn.neo4jlabs.com/neovis.js/v1.1.0/neovis.js\"></script>\n",
    "            <script\n",
    "                    src=\"https://code.jquery.com/jquery-3.2.1.min.js\"\n",
    "                    integrity=\"sha256-hwg4gsxgFZhOsEEamdOYGBf13FyQuiTwlAQgxVSNgt4=\"\n",
    "                    crossorigin=\"anonymous\"></script>\n",
    "            <script type=\"text/javascript\">\n",
    "                var viz;\n",
    "                function draw() {{\n",
    "                    var config = {{\n",
    "                        container_id: \"viz\",\n",
    "                        server_url: \"{host}\",\n",
    "                        server_user: \"{user}\",\n",
    "                        server_password: \"{password}\",\n",
    "                        labels: {labels},\n",
    "                        relationships: {relationships},\n",
    "                        initial_cypher: \"{cypher}\"\n",
    "                    }};\n",
    "                    viz = new NeoVis.default(config);\n",
    "                    viz.render();                    \n",
    "                    viz.onVisualizationRendered(function(ctx) {{\n",
    "                        let imageSrc = document.getElementsByTagName(\"canvas\")[0].toDataURL();\n",
    "                        console.log(imageSrc);\n",
    "                        document.getElementById(\"viz-image\").src=imageSrc;\n",
    "                        //document.getElementById(\"viz\").style=\"display:none\";\n",
    "                        \n",
    "                        let kernel = IPython.notebook.kernel;\n",
    "                        //let command = 'display(HTML('<img id=\"viz-image\" width=\"300px\" src=\"' + imageSrc + '\" />';\n",
    "                        let command = \"foo = 'bar'\";\n",
    "                        kernel.execute(command);\n",
    "                        \n",
    "                    }});\n",
    "                }}\n",
    "            </script>\n",
    "         </head>\n",
    "        <body onload=\"draw()\">\n",
    "            <div id=\"viz\"></div>\n",
    "        </body>\n",
    "    </html>\n",
    "    \"\"\"\n",
    "\n",
    "    html = html.format(\n",
    "        host=host,\n",
    "        user=user,\n",
    "        password=password,\n",
    "        cypher=cypher,\n",
    "        labels = json.dumps(labels_json),\n",
    "        relationships=json.dumps(relationships_json)\n",
    "    )\n",
    "\n",
    "    unique_id = str(uuid.uuid4())\n",
    "    filename = \"graph-{}.html\".format(unique_id)\n",
    "\n",
    "    with open(filename, \"w\") as f:\n",
    "        f.write(html)\n",
    "    return IFrame(src=filename, width=500, height=500)"
   ]
  },
  {
   "cell_type": "code",
   "execution_count": 4,
   "id": "1e883d70",
   "metadata": {},
   "outputs": [
    {
     "data": {
      "text/html": [
       "\n",
       "        <iframe\n",
       "            width=\"500\"\n",
       "            height=\"500\"\n",
       "            src=\"graph-94740662-134a-418d-97c7-d3ebb219be04.html\"\n",
       "            frameborder=\"0\"\n",
       "            allowfullscreen\n",
       "        ></iframe>\n",
       "        "
      ],
      "text/plain": [
       "<IPython.lib.display.IFrame at 0x1fd9eb390d0>"
      ]
     },
     "execution_count": 4,
     "metadata": {},
     "output_type": "execute_result"
    }
   ],
   "source": [
    "host = \"bolt://localhost:7687\"\n",
    "user = 'neo4j'\n",
    "password = '1234'\n",
    "\n",
    "cypher = \" MATCH (p)-[:MAKES_PRODUCT]-(m:Product)-[:IMPORTED_FROM]-(c:Country) WHERE m.sector='healthcare' AND m.type='Masks' AND c.name='China' RETURN * \"\n",
    "labels_json = {\n",
    "    \"Person\": {\n",
    "        \"caption\": \"name\",\n",
    "        \"size\": \"pagerank\",\n",
    "        \"community\": \"community\"\n",
    "    }\n",
    "}\n",
    "\n",
    "relationships_json = {\n",
    "    \"RELATED\": {\n",
    "        \"thickness\": \"id\",\n",
    "        \"caption\": False\n",
    "    }\n",
    "}\n",
    "\n",
    "generate_vis(host, user, password, cypher, labels_json, relationships_json)"
   ]
  },
  {
   "cell_type": "code",
   "execution_count": null,
   "id": "f59699cb",
   "metadata": {},
   "outputs": [],
   "source": []
  }
 ],
 "metadata": {
  "kernelspec": {
   "display_name": "Python 3 (ipykernel)",
   "language": "python",
   "name": "python3"
  },
  "language_info": {
   "codemirror_mode": {
    "name": "ipython",
    "version": 3
   },
   "file_extension": ".py",
   "mimetype": "text/x-python",
   "name": "python",
   "nbconvert_exporter": "python",
   "pygments_lexer": "ipython3",
   "version": "3.9.5"
  }
 },
 "nbformat": 4,
 "nbformat_minor": 5
}
